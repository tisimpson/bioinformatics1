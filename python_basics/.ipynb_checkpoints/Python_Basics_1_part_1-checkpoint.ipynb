{
 "cells": [
  {
   "cell_type": "markdown",
   "metadata": {},
   "source": [
    "# Python Basics 1\n",
    "## Notebook 1\n",
    "<br>\n",
    "\n",
    "### In this notebook we'll give a very broad introduction to programming and Python:<br>\n",
    "\n",
    "1. Using Jupyter Notebooks<br><br>\n",
    "\n",
    "2. Using Python<br><br>\n",
    "\n",
    "3. Variables<br><br>\n",
    "\n",
    "4. Handling errors<br><br>\n",
    "\n",
    "5. General tips for programming<br><br>\n",
    "\n",
    "\n",
    "### Some technical notes:\n",
    "\n",
    "There are two current version of Python (Python 2 and Python 3). We are going to use Python 3 both in these tutorials as well as on the course\n",
    "\n",
    "These Notebooks were created following the structure of the book [Python for Biologists](https://pythonforbiologists.com) and the interactive tutorials [Learn Python](https://www.learnpython.org/) and [w3schools.com Python tutorial](https://www.w3schools.com/python/)\n",
    "\n",
    "\n",
    "Since we are using the Noteable environment to run our code, we'll skip how to install Python and set up an environment, but if you would like to learn about this you can read how to do it [here](https://wiki.python.org/moin/BeginnersGuide/Download)\n",
    "<br><br>\n",
    "\n",
    "***\n",
    "\n",
    "## 1. Jupyter Notebooks\n",
    "\n",
    "Jupyter Notebooks are organised by cells, which can contain live code, equations, visualizations, and text. All of this text is inside of a text (or Markdown) cell. If you double click on it, you can see the raw format of the cell's content, and if you press the **Run** button, you can return to the formatted version of the cell.\n",
    "\n",
    "Cells like the one below can run Python code:"
   ]
  },
  {
   "cell_type": "code",
   "execution_count": null,
   "metadata": {},
   "outputs": [],
   "source": []
  },
  {
   "cell_type": "markdown",
   "metadata": {},
   "source": [
    "You can write and execute your code in those type of cells using the **Run** button\n",
    "\n",
    "<br>\n",
    "\n",
    "***\n",
    "## 2. Using Python\n",
    "\n",
    "You can use Python as a calculator to perform operations, which can be as simple"
   ]
  },
  {
   "cell_type": "code",
   "execution_count": 1,
   "metadata": {},
   "outputs": [
    {
     "output_type": "execute_result",
     "data": {
      "text/plain": "2"
     },
     "metadata": {},
     "execution_count": 1
    }
   ],
   "source": [
    "1+1"
   ]
  },
  {
   "cell_type": "markdown",
   "metadata": {},
   "source": [
    "Or as complicated as you like. For example, the surface area of a [Rhombicosidodecahedron](https://en.wikipedia.org/wiki/Rhombicosidodecahedron) where the edges are 2cm long\n",
    "\n",
    "<br>\n",
    "\n",
    "<center>$A = edge^2 \\times \\left(30 + 5\\sqrt{3} + 3\\sqrt{25 + 10\\sqrt{5}} \\right)$</center>"
   ]
  },
  {
   "cell_type": "code",
   "execution_count": 2,
   "metadata": {},
   "outputs": [
    {
     "output_type": "execute_result",
     "data": {
      "text/plain": "237.22393137964792"
     },
     "metadata": {},
     "execution_count": 2
    }
   ],
   "source": [
    "2**2*(30+5*3**(1/2)+3*(25+10*5**(1/2))**(1/2))"
   ]
  },
  {
   "cell_type": "markdown",
   "metadata": {},
   "source": [
    "You can insert comments in your code so you can understand it better using '#' at the beginning of the line. All lines starting with this character will be ignored by the computer\n",
    "\n",
    "**Write as many comments as you need!** These will be very helpful when you are reading code (even your own)"
   ]
  },
  {
   "cell_type": "code",
   "execution_count": 3,
   "metadata": {},
   "outputs": [
    {
     "output_type": "execute_result",
     "data": {
      "text/plain": "237.22393137964792"
     },
     "metadata": {},
     "execution_count": 3
    }
   ],
   "source": [
    "# This operation calculates the surface area of a rhombicosidodecahedron with an edge length of 2:\n",
    "2**2*(30+5*3**(1/2)+3*(25+10*5**(1/2))**(1/2))"
   ]
  },
  {
   "cell_type": "markdown",
   "metadata": {},
   "source": [
    "<br><br>\n",
    "<font color='#993366'>Write an operation in the cell below with a comment explaining what it is and run it</font>"
   ]
  },
  {
   "cell_type": "code",
   "execution_count": null,
   "metadata": {},
   "outputs": [],
   "source": []
  },
  {
   "cell_type": "markdown",
   "metadata": {},
   "source": [
    "***\n",
    "\n",
    "## 3. Variables\n",
    "\n",
    "You can store your results in variables, so you can access them later\n",
    "\n",
    "Things to consider when defining variables:\n",
    "\n",
    "- A variable name must start with a letter or the underscore character\n",
    "- A variable name cannot start with a number\n",
    "- A variable name can only contain alpha-numeric characters and underscores (A-z, 0-9, and _ )\n",
    "- Variable names are case-sensitive (age, Age and AGE are three different variables)\n",
    "\n",
    "To create a variable you just need to write the variable name followed by a `=` (which means assign) and then the value you want to assign to it"
   ]
  },
  {
   "cell_type": "code",
   "execution_count": null,
   "metadata": {},
   "outputs": [],
   "source": [
    "surface_area = 2**2*(30+5*3**(1/2)+3*(25+10*5**(1/2))**(1/2))"
   ]
  },
  {
   "cell_type": "markdown",
   "metadata": {},
   "source": [
    "Now the variable `surface_area` contains the result of the operation"
   ]
  },
  {
   "cell_type": "code",
   "execution_count": null,
   "metadata": {},
   "outputs": [],
   "source": [
    "surface_area"
   ]
  },
  {
   "cell_type": "markdown",
   "metadata": {},
   "source": [
    "You can perform operations with the variables.\n",
    "\n",
    "For example, to calculate the surface area of 2 of these rhombicosidodecahedra"
   ]
  },
  {
   "cell_type": "code",
   "execution_count": null,
   "metadata": {},
   "outputs": [],
   "source": [
    "# Total surface area of two rhombicosidodecahedra with edge length 2\n",
    "surface_area*2"
   ]
  },
  {
   "cell_type": "markdown",
   "metadata": {},
   "source": [
    "<br><br>\n",
    "<font color='#993366'>Save the operation you wrote in the previous section into a variable named `my_var`</font>"
   ]
  },
  {
   "cell_type": "code",
   "execution_count": null,
   "metadata": {},
   "outputs": [],
   "source": []
  },
  {
   "cell_type": "markdown",
   "metadata": {},
   "source": [
    "<br>\n",
    "\n",
    "**The print() function**\n",
    "\n",
    "Cells print the result of the last operation they perform, but if you do more than one, you won't be able to see all of the results"
   ]
  },
  {
   "cell_type": "code",
   "execution_count": null,
   "metadata": {},
   "outputs": [],
   "source": [
    "surface_area*3\n",
    "surface_area*4"
   ]
  },
  {
   "cell_type": "markdown",
   "metadata": {},
   "source": [
    "To have more control over what gets printed, we can use the function `print()`"
   ]
  },
  {
   "cell_type": "code",
   "execution_count": null,
   "metadata": {},
   "outputs": [],
   "source": [
    "print(surface_area*3)\n",
    "print(surface_area*4)"
   ]
  },
  {
   "cell_type": "markdown",
   "metadata": {},
   "source": [
    "You can also insert text in the print statement:"
   ]
  },
  {
   "cell_type": "code",
   "execution_count": null,
   "metadata": {},
   "outputs": [],
   "source": [
    "print('The surface area of three rhombicosidodecahedra with edge length of 2 is:')\n",
    "print(surface_area*3)\n",
    "\n",
    "print('The surface area of four rhombicosidodecahedra with edge length of 2 is:')\n",
    "print(surface_area*4)"
   ]
  },
  {
   "cell_type": "markdown",
   "metadata": {},
   "source": [
    "To insert white spaces between prints, you can use `'\\n'` inside the text of the print statement"
   ]
  },
  {
   "cell_type": "code",
   "execution_count": null,
   "metadata": {},
   "outputs": [],
   "source": [
    "print('The surface area of three rhombicosidodecahedra with edge length of 2 is:')\n",
    "print(surface_area*3)\n",
    "\n",
    "print('\\nThe surface area of four rhombicosidodecahedra with edge length of 2 is:')\n",
    "print(surface_area*4)"
   ]
  },
  {
   "cell_type": "markdown",
   "metadata": {},
   "source": [
    "<br><br>\n",
    "<font color='#993366'>Print a text explaining what operation is stored inside your variable `my_var` followed by another print with your variable</font>"
   ]
  },
  {
   "cell_type": "code",
   "execution_count": null,
   "metadata": {},
   "outputs": [],
   "source": []
  },
  {
   "cell_type": "markdown",
   "metadata": {},
   "source": [
    "***\n",
    "## 4. Handling Errors"
   ]
  },
  {
   "cell_type": "markdown",
   "metadata": {},
   "source": [
    "When running code, if Python finds an error in the cell, an error message will display"
   ]
  },
  {
   "cell_type": "code",
   "execution_count": null,
   "metadata": {},
   "outputs": [],
   "source": [
    "# I'm going to misspell surface_area, so Python won't recognise it\n",
    "sufrace_area"
   ]
  },
  {
   "cell_type": "markdown",
   "metadata": {},
   "source": [
    "You shouldn't worry about getting this messages, read them and they will help you identify what is wrong with your code so you can correct it\n",
    "<br>\n",
    "\n",
    "`NameError: name 'sufrace_area' is not defined` means there is no variable named `sufrace_area`, so we realise we have misspelled the variable and we can now correct it"
   ]
  },
  {
   "cell_type": "code",
   "execution_count": null,
   "metadata": {},
   "outputs": [],
   "source": [
    "# Correcting the error the cell works fine now\n",
    "surface_area"
   ]
  },
  {
   "cell_type": "markdown",
   "metadata": {},
   "source": [
    "<br><br>\n",
    "<font color='#993366'>Print `my_var` with a typo so Python displays an error</font>"
   ]
  },
  {
   "cell_type": "code",
   "execution_count": null,
   "metadata": {},
   "outputs": [],
   "source": []
  },
  {
   "cell_type": "markdown",
   "metadata": {},
   "source": [
    "<br>\n",
    "\n",
    "***\n",
    "## 5. General Programming Tips\n",
    "\n",
    "<br>\n",
    "\n",
    "- Don't memorise, **understand**<br><br>\n",
    "\n",
    "    - A lot of programming is more about modifying previous code to do what you want than creating new code from scratch<br><br>\n",
    "\n",
    "    - When running code from the lecture, don't just run the code, but try to understand what you are doing<br><br>\n",
    "    \n",
    "    - If a bit of code seems to difficult, break it into smaller parts and try to understand them individually<br><br>\n",
    "    \n",
    "    - Use comments to annotate your code. A good habit to get into is writing a quick one-line comment above any line of code that does something interesting<br><br><br>\n",
    "\n",
    "\n",
    "- You can't learn to code without **practising**<br><br>\n",
    "\n",
    "    - Try out things for yourself, move things in the code and see what happens<br><br>\n",
    "    \n",
    "    - Don't be afraid to make mistakes, and when you do, read the error messages, they are there to help you understand what is wrong<br><br><br>\n",
    "    \n",
    "- Use all the **resources** you have available<br><br>\n",
    "\n",
    "    - Ask questions during the lectures<br><br>\n",
    "\n",
    "    - Use Python's documentation<br><br>\n",
    "    \n",
    "    - Look for related questions in StackOverflow (most of the times, you are not the first person to have had a specific question)<br><br>\n",
    "    \n",
    "    - Post questions on Piazza<br><br>\n",
    "    \n",
    "    - Ask your classmates<br><br>\n"
   ]
  }
 ],
 "metadata": {
  "kernelspec": {
   "display_name": "Python 3",
   "language": "python",
   "name": "python3"
  },
  "language_info": {
   "codemirror_mode": {
    "name": "ipython",
    "version": 3
   },
   "file_extension": ".py",
   "mimetype": "text/x-python",
   "name": "python",
   "nbconvert_exporter": "python",
   "pygments_lexer": "ipython3",
   "version": "3.7.4-final"
  }
 },
 "nbformat": 4,
 "nbformat_minor": 2
}