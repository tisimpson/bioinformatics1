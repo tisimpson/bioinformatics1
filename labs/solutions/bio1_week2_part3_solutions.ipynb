{
 "cells": [
  {
   "cell_type": "markdown",
   "metadata": {},
   "source": [
    "## Week 2 - Part 3 Solutions\n",
    "- September 2023\n",
    "- [https://https://github.com/tisimpson/bioinformatics1](https://github.com/tisimpson/bioinformatics1)\n",
    "- [ian.simpson@ed.ac.uk](mailto:ian.simpson@ed.ac.uk)"
   ]
  },
  {
   "cell_type": "markdown",
   "metadata": {},
   "source": [
    "The [pairwise2 module](https://biopython.org/docs/dev/api/Bio.pairwise2.html) has two main functions for alignment 'local' and 'global' when they are called you add two charcters on to those to define how you want to perform the search, for example globalxx or localxx. Those two letters define the following:-\n",
    "\n",
    "```\n",
    "CODE  DESCRIPTION\n",
    "x     No parameters. Identical characters have score of 1, otherwise 0.\n",
    "m     A match score is the score of identical chars, otherwise mismatch\n",
    "      score.\n",
    "d     A dictionary returns the score of any pair of characters.\n",
    "c     A callback function returns scores.\n",
    "The gap penalty parameters are:\n",
    "\n",
    "CODE  DESCRIPTION\n",
    "x     No gap penalties.\n",
    "s     Same open and extend gap penalties for both sequences.\n",
    "d     The sequences have different open and extend gap penalties.\n",
    "c     A callback function returns the gap penalties.\n",
    "```\n",
    "\n",
    "Further details can be found [here](https://biopython.org/DIST/docs/api/Bio.pairwise2-module.html).\n",
    "\n",
    "As an example though a call of :-\n",
    "```\n",
    "pairwise2.align.globalms(\"ACCGT\", \"ACG\", 2, -2, -.5, -.1)\n",
    "```\n",
    "\n",
    "for 'm' you specify match (+2) and mismatch (-2) scores and then 's' you specify gap-open (-0.5) and gap-extend (-0.1) scores"
   ]
  },
  {
   "cell_type": "markdown",
   "metadata": {},
   "source": [
    "### Challenge - Practice Experiments\n",
    "By modifying the code above try pulling different kinds of sequences to align using both local and alignment methods. Play with the choice of alignment matrix and different parameters to see what effects they have on the alignments generated."
   ]
  },
  {
   "cell_type": "markdown",
   "metadata": {},
   "source": [
    "Below is a simple example of how you can set up to perform different kinds of sequence alignment"
   ]
  },
  {
   "cell_type": "code",
   "execution_count": null,
   "metadata": {
    "tags": []
   },
   "outputs": [],
   "source": [
    "from Bio.Seq import Seq\n",
    "from Bio import pairwise2 as pw\n",
    "from Bio import AlignIO\n",
    "\n",
    "seq1 = Seq(\"TGGACGAATA\")\n",
    "seq2 = Seq(\"TCGACCATA\")\n",
    "\n",
    "# perform NW (global)\n",
    "# match = +2, mismatch = -1, gap = -1\n",
    "\n",
    "alignments = pw.align.globalms(seq1,seq2, +2, -1, -1, -1)\n",
    "\n",
    "# the number of high scoring alignments\n",
    "print(\"There are\",len(alignments),\"high scoring alignments\\n\")\n",
    "\n",
    "for i in range(0,len(alignments)):\n",
    "    # the alignment score\n",
    "    print(\"alignment score \"+str(i+1)+\" =\",alignments[i][2])\n",
    "\n",
    "    alignment_fasta = \\\n",
    "    \">seq1\\n\"+alignments[i][0] \\\n",
    "    +\"\\n\"+ \\\n",
    "    \">seq2\\n\"+alignments[i][1]\n",
    "\n",
    "    # write it to a file\n",
    "    fh = open('testnw'+str(i)+'.fa','w')\n",
    "    fh.write(alignment_fasta)\n",
    "    fh.close()\n",
    "\n",
    "    # read in the file using AlignIO\n",
    "    alignment = AlignIO.read(\"testnw\"+str(i)+\".fa\", \"fasta\")\n",
    "\n",
    "    # convert to clustal\n",
    "    print(format(alignment,'clustal'))"
   ]
  }
 ],
 "metadata": {
  "kernelspec": {
   "display_name": "Python 3.8.8 ('base')",
   "language": "python",
   "name": "python3"
  },
  "language_info": {
   "codemirror_mode": {
    "name": "ipython",
    "version": 3
   },
   "file_extension": ".py",
   "mimetype": "text/x-python",
   "name": "python",
   "nbconvert_exporter": "python",
   "pygments_lexer": "ipython3",
   "version": "3.11.5"
  },
  "vscode": {
   "interpreter": {
    "hash": "40d3a090f54c6569ab1632332b64b2c03c39dcf918b08424e98f38b5ae0af88f"
   }
  }
 },
 "nbformat": 4,
 "nbformat_minor": 2
}
