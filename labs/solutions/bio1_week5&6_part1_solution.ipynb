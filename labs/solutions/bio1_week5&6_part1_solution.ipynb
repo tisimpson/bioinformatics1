{
 "cells": [
  {
   "cell_type": "markdown",
   "metadata": {},
   "source": [
    "### Week 5 - Biological Databases - Genomic Data\n",
    "- October 2023\n",
    "- [https://https://github.com/tisimpson/bioinformatics1](https://github.com/tisimpson/bioinformatics1)\n",
    "- [ian.simpson@ed.ac.uk](mailto:ian.simpson@ed.ac.uk)"
   ]
  },
  {
   "cell_type": "code",
   "execution_count": null,
   "metadata": {
    "tags": []
   },
   "outputs": [],
   "source": [
    "# Genomic information for various species\n",
    "\n",
    "# I've commented out the \"ul.request.urlretrieve....\" lines to prevent them being downloaded many times as they are large.\n",
    "# If you want to download them again, just remove the # symbol and run the code again.\n",
    "\n",
    "# We are going to download genome scale annotation data directly from NCBI for 5 model organisms.\n",
    "\n",
    "import pandas as pd\n",
    "import urllib as ul\n",
    "import numpy as np\n",
    "\n",
    "# #human\n",
    "# ul.request.urlretrieve('https://ftp.ncbi.nlm.nih.gov/gene/DATA/GENE_INFO/Mammalia/Homo_sapiens.gene_info.gz','../data/genomes/Homo_sapiens.gene_info.gz')\n",
    "\n",
    "# #mouse\n",
    "# ul.request.urlretrieve('https://ftp.ncbi.nlm.nih.gov/gene/DATA/GENE_INFO/Mammalia/Mus_musculus.gene_info.gz','../data/genomes/Mus_musculus.gene_info.gz')\n",
    "\n",
    "# #rat\n",
    "# ul.request.urlretrieve('https://ftp.ncbi.nlm.nih.gov/gene/DATA/GENE_INFO/Mammalia/Rattus_norvegicus.gene_info.gz','../data/genomes/Rattus_norvegicus.gene_info.gz')\n",
    "\n",
    "# #fruitfly\n",
    "# ul.request.urlretrieve('https://ftp.ncbi.nlm.nih.gov/gene/DATA/GENE_INFO/Invertebrates/Drosophila_melanogaster.gene_info.gz','../data/genomes/Drosophila_melanogaster.gene_info.gz')\n",
    "\n",
    "# #yeast\n",
    "# ul.request.urlretrieve('https://ftp.ncbi.nlm.nih.gov/gene/DATA/GENE_INFO/Fungi/Saccharomyces_cerevisiae.gene_info.gz','../data/genomes/Saccharomyces_cerevisiae.gene_info.gz')"
   ]
  },
  {
   "cell_type": "code",
   "execution_count": null,
   "metadata": {},
   "outputs": [],
   "source": [
    "#read the gene_info files into Pandas data frames\n",
    "human_df = pd.read_csv('../data/genomes/Homo_sapiens.gene_info.gz', compression='gzip', header=0, sep='\\t')\n",
    "mouse_df = pd.read_csv('../data/genomes/Mus_musculus.gene_info.gz', compression='gzip', header=0, sep='\\t')\n",
    "rat_df = pd.read_csv('../data/genomes/Rattus_norvegicus.gene_info.gz', compression='gzip', header=0, sep='\\t')\n",
    "fruitfly_df = pd.read_csv('../data/genomes/Drosophila_melanogaster.gene_info.gz', compression='gzip', header=0, sep='\\t')\n",
    "yeast_df = pd.read_csv('../data/genomes/Saccharomyces_cerevisiae.gene_info.gz', compression='gzip', header=0, sep='\\t')"
   ]
  },
  {
   "cell_type": "code",
   "execution_count": null,
   "metadata": {},
   "outputs": [],
   "source": [
    "#show the first few lines of the dataframe\n",
    "human_df.head()"
   ]
  },
  {
   "cell_type": "code",
   "execution_count": null,
   "metadata": {},
   "outputs": [],
   "source": [
    "# count the number of genes per chromosome\n",
    "human_chromosomes = human_df['chromosome'].value_counts().rename_axis('chromosome').reset_index(name='gene_count')\n",
    "\n",
    "# show the first few lines\n",
    "human_chromosomes.head()"
   ]
  },
  {
   "cell_type": "code",
   "execution_count": null,
   "metadata": {},
   "outputs": [],
   "source": [
    "# show the size of the dataframe\n",
    "print(human_df.shape)"
   ]
  },
  {
   "cell_type": "code",
   "execution_count": null,
   "metadata": {},
   "outputs": [],
   "source": [
    "#plot a basic bar-plot\n",
    "sorted_counts = human_chromosomes.sort_values('gene_count',ascending=False)\n",
    "sorted_counts.plot.bar(x='chromosome', y='gene_count', ylabel='gene count', xlabel='chromosome', legend=False)"
   ]
  },
  {
   "cell_type": "code",
   "execution_count": null,
   "metadata": {},
   "outputs": [],
   "source": [
    "#genes per species\n",
    "\n",
    "#build the dataframe\n",
    "data = {'counts' : [human_df.shape[0],mouse_df.shape[0],rat_df.shape[0],fruitfly_df.shape[0],yeast_df.shape[0]]}\n",
    "df = pd.DataFrame(data)\n",
    "df.index = ['human', 'mouse','rat','fruitfly','yeast']\n",
    "\n",
    "#show the first few lines of the dataframe\n",
    "print(df.head())\n",
    "\n",
    "#plot a basic bar-plot\n",
    "df.plot.bar(ylabel='gene count',xlabel='species',legend=False)"
   ]
  },
  {
   "cell_type": "code",
   "execution_count": null,
   "metadata": {},
   "outputs": [],
   "source": [
    "# Now we're going to look at the size of the genomes\n",
    "\n",
    "# ul.request.urlretrieve('https://ftp.ncbi.nlm.nih.gov/genomes/GENOME_REPORTS/overview.txt','../data/genomes/genomes.txt')\n",
    "\n",
    "#build the genomes report dataframe\n",
    "genomes_df = pd.read_csv('../data/genomes/genomes.txt',header=0,sep='\\t',low_memory=False)\n",
    "\n",
    "#select the genome sizes from the dataframe\n",
    "genome_sizes = {'size': [genomes_df[genomes_df[genomes_df.columns[0]].str.fullmatch('Homo sapiens')]['Size (Mb)'].astype('float').values[0], genomes_df[genomes_df[genomes_df.columns[0]].str.fullmatch('Mus musculus')]['Size (Mb)'].astype('float').values[0], genomes_df[genomes_df[genomes_df.columns[0]].str.fullmatch('Rattus norvegicus')]['Size (Mb)'].astype('float').values[0], genomes_df[genomes_df[genomes_df.columns[0]].str.fullmatch('Drosophila melanogaster')]['Size (Mb)'].astype('float').values[0], genomes_df[genomes_df[genomes_df.columns[0]].str.fullmatch('Saccharomyces cerevisiae')]['Size (Mb)'].astype('float').values[0]]}\n",
    "\n",
    "#build the genome size dataframe\n",
    "genomes = pd.DataFrame(genome_sizes)\n",
    "\n",
    "#add the species index\n",
    "genomes.index = ['human', 'mouse','rat','fruitfly','yeast']\n",
    "\n",
    "#normalise gene number by genome size and plot\n",
    "\n",
    "#combine the two dfs - genomes and df\n",
    "final = pd.merge(genomes,df,left_index=True,right_index=True)\n",
    "\n",
    "#normalise the gene counts\n",
    "final['norm'] = final['counts']/final['size']\n",
    "\n",
    "#view the final df\n",
    "print(final)\n",
    "\n",
    "#plot the normalised gene counts\n",
    "final.plot.bar(ylabel='normalised gene count',xlabel='species',legend=False,y='norm')\n",
    "\n",
    "#brief conclusion - both fly and yeast have compressed genomes compared to the mammals"
   ]
  },
  {
   "cell_type": "code",
   "execution_count": null,
   "metadata": {},
   "outputs": [],
   "source": [
    "# Exploring unique transcripts from genome annotation\n",
    "\n",
    "# This is the URL of the human refseq RNA file that contains the information displayed on the RefSeq website when you restrict it to homo_sapiens. You can find the number of unique transcripts from this by following a similar approach to above.\n",
    "# I will not do this here, it is something you can develop as practice. NB that the file is >300Mb !\n",
    "\n",
    "# https://ftp.ncbi.nlm.nih.gov/genomes/refseq/vertebrate_mammalian/Homo_sapiens/annotation_releases/current/GCF_000001405.40-RS_2023_10/GCF_000001405.40_GRCh38.p14_rna.gbff.gz\n",
    "\n",
    "# You might like to explore the genomes FTP data site - https://ftp.ncbi.nlm.nih.gov/genomes"
   ]
  },
  {
   "cell_type": "code",
   "execution_count": null,
   "metadata": {},
   "outputs": [],
   "source": [
    "import pandas as pd\n",
    "import urllib as ul\n",
    "import numpy as np\n",
    "from prettytable import PrettyTable"
   ]
  },
  {
   "cell_type": "code",
   "execution_count": null,
   "metadata": {},
   "outputs": [],
   "source": [
    "# retrieve the human genome feature annotations from the NCBI FTP site\n",
    "ul.request.urlretrieve('https://ftp.ncbi.nlm.nih.gov/genomes/refseq/vertebrate_mammalian/Homo_sapiens/annotation_releases/current/GCF_000001405.40-RS_2023_10/GCF_000001405.40_GRCh38.p14_feature_table.txt.gz','../DATA/genomes/features.txt.gz')"
   ]
  },
  {
   "cell_type": "code",
   "execution_count": null,
   "metadata": {},
   "outputs": [],
   "source": [
    "human_df = pd.read_csv('../data/genomes/features.txt.gz', compression='gzip',header=0, sep='\\t', low_memory=False)"
   ]
  },
  {
   "cell_type": "code",
   "execution_count": null,
   "metadata": {},
   "outputs": [],
   "source": [
    "human_df.head()"
   ]
  },
  {
   "cell_type": "code",
   "execution_count": null,
   "metadata": {},
   "outputs": [],
   "source": [
    "# summarise the feature data\n",
    "\n",
    "# plot a prettytable of the counts for all the features\n",
    "\n",
    "# count the number of features per type\n",
    "featureCounts = human_df['# feature'].value_counts().to_frame(name='counts')\n",
    "featureCounts = featureCounts.rename_axis('feature type')\n",
    "\n",
    "# create a prettytable object\n",
    "table = PrettyTable()\n",
    "\n",
    "# add the columns to the table\n",
    "table.field_names = [\"Feature Type\", \"Counts\"]\n",
    "\n",
    "# add the rows to the table\n",
    "for index, row in featureCounts.iterrows():\n",
    "    table.add_row([index,row['counts']])\n",
    "\n",
    "# print the table\n",
    "print(table)"
   ]
  },
  {
   "cell_type": "code",
   "execution_count": null,
   "metadata": {},
   "outputs": [],
   "source": [
    "mRNAs = human_df[human_df['# feature'] == 'mRNA']\n",
    "\n",
    "mRNAs.head()"
   ]
  },
  {
   "cell_type": "code",
   "execution_count": null,
   "metadata": {},
   "outputs": [],
   "source": [
    "# summarise by gene\n",
    "\n",
    "mRNA_GeneFrequencies = mRNAs['symbol'].value_counts().to_frame()\n",
    "\n",
    "# mRNACounts = featureCounts.rename_axis('feature type')\n",
    "\n",
    "\n",
    "# print the top gene with the highest number of transcripts in a prettytable\n",
    "table = PrettyTable()\n",
    "\n",
    "# add the columns to the table\n",
    "table.field_names = [\"Gene\", \"Number of Transcripts\"]\n",
    "\n",
    "# counter\n",
    "i = 0\n",
    "\n",
    "# add the rows to the table\n",
    "for index, row in mRNA_GeneFrequencies.iterrows():\n",
    "    # stop after 10 rows\n",
    "    if i <= 10:\n",
    "        table.add_row([index,row.values[0]])\n",
    "        i += 1\n",
    "    else:\n",
    "        break\n",
    "\n",
    "# print the table\n",
    "print(table)"
   ]
  },
  {
   "cell_type": "code",
   "execution_count": null,
   "metadata": {},
   "outputs": [],
   "source": [
    "# plot a histogram of the mRNA_GeneFrequency data\n",
    "\n",
    "# import the plotting library\n",
    "import matplotlib.pyplot as plt\n",
    "\n",
    "# plot a histogram of the mRNA_GeneFrequency data with labelled axes\n",
    "plt.hist(mRNA_GeneFrequencies, bins=100, log=True)\n",
    "plt.ylabel('Number of Genes (log scale)')\n",
    "plt.xlabel('mRNAs per Gene')\n",
    "plt.title('Histogram of mRNAs per Gene')\n",
    "plt.show()"
   ]
  },
  {
   "cell_type": "code",
   "execution_count": null,
   "metadata": {},
   "outputs": [],
   "source": [
    "mRNA_TranscriptSizes = mRNAs['product_length']\n",
    "\n",
    "plt.hist(mRNA_TranscriptSizes, bins=100, log=True)\n",
    "plt.ylabel('Number of Transcripts (log scale)')\n",
    "plt.xlabel('Size of Transcript (bp)')\n",
    "plt.title('Histogram of mRNAs per Gene')\n",
    "plt.show()\n",
    "\n",
    "# the mean transcript length\n",
    "print(f\"The mean transcript length in the human genome is\",int(np.round(mRNA_TranscriptSizes.mean())),\"nucleotides\")\n",
    "\n",
    "# print the longest transcript\n",
    "print(\"The longest transcript is\",mRNAs[mRNAs['product_length'] == mRNAs['product_length'].max()]['symbol'].values[0],\"at\",int(mRNAs['product_length'].max()),\"nucleotides\")\n",
    "\n",
    "# print the shortest transcript\n",
    "print(\"The shortest transcript is\",mRNAs[mRNAs['product_length'] == mRNAs['product_length'].min()]['symbol'].values[0],\"at\",int(mRNAs['product_length'].min()),\"nucleotides\")\n"
   ]
  }
 ],
 "metadata": {
  "interpreter": {
   "hash": "3780209f5c547b790e301ddcf82da1791fd2d3a86603b11e6f996468095ce25a"
  },
  "kernelspec": {
   "display_name": "Python 3.7.4 64-bit (conda)",
   "name": "python3"
  },
  "language_info": {
   "codemirror_mode": {
    "name": "ipython",
    "version": 3
   },
   "file_extension": ".py",
   "mimetype": "text/x-python",
   "name": "python",
   "nbconvert_exporter": "python",
   "pygments_lexer": "ipython3",
   "version": "3.11.5"
  },
  "orig_nbformat": 2
 },
 "nbformat": 4,
 "nbformat_minor": 2
}
