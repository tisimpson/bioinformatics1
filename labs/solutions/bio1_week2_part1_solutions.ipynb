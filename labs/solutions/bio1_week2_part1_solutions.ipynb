{
 "cells": [
  {
   "cell_type": "markdown",
   "metadata": {},
   "source": [
    "## Week 2 - Part 1 Solutions\n",
    "- September 2023\n",
    "- [https://https://github.com/tisimpson/bioinformatics1](https://github.com/tisimpson/bioinformatics1)\n",
    "- [ian.simpson@ed.ac.uk](mailto:ian.simpson@ed.ac.uk)"
   ]
  },
  {
   "cell_type": "markdown",
   "metadata": {},
   "source": [
    "### Challenge 1 - Creating a Random Sequence\n",
    "An **optional** challenge to get a bit of basic practice manipulating sequences in BioPython. I will post example answers in \"Tutorial Information & Discussion\" Channel before next week's class.\n",
    "\n",
    "Create a random DNA sequence of length 100 base pairs and print it out. HINT you will need to use the Python ``random`` function."
   ]
  },
  {
   "cell_type": "markdown",
   "metadata": {},
   "source": [
    "### Challenge 2 - Creating Mutated Sequences\n",
    "Another **optional** challenge, again I will post a possible answer in \"Tutorial Information & Discussion\" Channel before next week's class. First I will help out by introducing some functions that you will probably want to use. There are many ways to do this so there is no one correct answer!\n",
    "\n",
    "Using the random sequence you created above, make 20 random mutations in it replacing the original base with a random lower case one. Then print the original sequence with the mutated sequence below it.\n",
    "\n",
    "HINT 1 - You will need to convert your random sequence into a ``MutableSeq`` object, see the BioPython cookbook for an example of it in use.\n",
    "\n",
    "HINT 2 - You will want to select a random position in the sequence, you'll probably want to use the ``random.randrange()`` function for that.\n",
    "\n",
    "Your final ouput should look like this:-\n",
    "\n",
    "```\n",
    "GTAAGCGCGTTGGGTTTGAAAGCCCACCGCAAAATGAAGCTCTAAGCAAACTGGGATAAATTGGCGACCCCGCACTGTTAGGACCGAAAGGTTTGTGACA\n",
    "cTgcGCcCGTTGGGTTTGcAcGCCCACtGtAAAATGAAGttCTAAGCAAACTGGGATAAATTGtCGtCtCCGCACTGTTgGGACCGgAAGGTTTGtGcCA\n",
    "```"
   ]
  },
  {
   "cell_type": "code",
   "execution_count": 1,
   "metadata": {
    "tags": []
   },
   "outputs": [
    {
     "name": "stdout",
     "output_type": "stream",
     "text": [
      "CAGCGTTATGGCTTTGTCACGGGGACAGACACGAAACAGTTGATCCCCCAAAAACCGCGACTAGTCGCGGGCGGGTCGGGTTACACTAAAAGACGGTTGG\n",
      "CAGCGTTATGGCTtTttCACGGGtAgAGACACgAAACAGgTGAtCggCCAAAAACCtCGACaAGTCGCGGGCGGGTcaGGTTACaaTAAAAcACGcaTGG\n"
     ]
    }
   ],
   "source": [
    "import Bio.Seq as bio\n",
    "import random\n",
    "\n",
    "#a list of possible nucleotides\n",
    "dna = (\"A\",\"C\",\"G\",\"T\")\n",
    "\n",
    "#a string variable to hold the sequence\n",
    "random_sequence = \"\"\n",
    "\n",
    "#for loop that will randomly pick 100 nulectotides from dna string\n",
    "for i in range(0,100):\n",
    "    random_sequence += random.choice(dna)\n",
    "\n",
    "#convert the resulting string into a MutableSeq object\n",
    "random_sequence = bio.MutableSeq(random_sequence)\n",
    "\n",
    "#print the base random sequence\n",
    "print(random_sequence)\n",
    "\n",
    "#now mutate the sequence\n",
    "\n",
    "#we want to mutate 20 positions\n",
    "for i in range(20):\n",
    "    #pick random position in sequence\n",
    "    position = random.randint(0,len(random_sequence))\n",
    "    #pick random base to substitute and make lower case\n",
    "    random_sequence[position] = random.choice(dna).lower()\n",
    "\n",
    "#print the final mutated sequence\n",
    "print(random_sequence)"
   ]
  }
 ],
 "metadata": {
  "kernelspec": {
   "display_name": "Python 3",
   "language": "python",
   "name": "python3"
  },
  "language_info": {
   "codemirror_mode": {
    "name": "ipython",
    "version": 3
   },
   "file_extension": ".py",
   "mimetype": "text/x-python",
   "name": "python",
   "nbconvert_exporter": "python",
   "pygments_lexer": "ipython3",
   "version": "3.11.5"
  }
 },
 "nbformat": 4,
 "nbformat_minor": 2
}
