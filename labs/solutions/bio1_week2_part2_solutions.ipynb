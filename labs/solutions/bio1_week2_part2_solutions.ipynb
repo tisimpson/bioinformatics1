{
 "cells": [
  {
   "cell_type": "markdown",
   "metadata": {},
   "source": [
    "## Week 2 - Part 2 Solutions\n",
    "- September 2023\n",
    "- [https://https://github.com/tisimpson/bioinformatics1](https://github.com/tisimpson/bioinformatics1)\n",
    "- [ian.simpson@ed.ac.uk](mailto:ian.simpson@ed.ac.uk)"
   ]
  },
  {
   "cell_type": "markdown",
   "metadata": {},
   "source": [
    "### Challenge 1 - Finding Genes with NCBI-Entrez\n",
    "Using either the Entrez website to search and/or using what you've learned about BioPython's abilities to query NCBI services retreive entries for a gene called Nrg1.\n",
    "- How many different gene entries are there for this gene in NCBI databases?\n",
    "- What is the full name of this gene?\n",
    "- What kind of protein does this gene encode?"
   ]
  },
  {
   "cell_type": "code",
   "execution_count": null,
   "metadata": {
    "tags": []
   },
   "outputs": [],
   "source": [
    "from Bio import Entrez\n",
    "\n",
    "Entrez.email = \"anybody.else@internet.com\" # You should replace this with your e-mail address\n",
    "\n",
    "\n",
    "#find out how many gene entries there are for Nrg1\n",
    "handle = Entrez.egquery(term=\"Nrg1\")\n",
    "record = Entrez.read(handle)\n",
    "handle.close()\n",
    "\n",
    "# we can iterate through the record and only return the 'nucleotide' result\n",
    "for row in record[\"eGQueryResult\"]:\n",
    "    if row[\"DbName\"]==\"gene\":\n",
    "        # print how many gene entries there are\n",
    "        print(\"There are \"+row[\"Count\"]+\" gene entries for the gene Nrg1\")\n",
    "\n",
    "# you might notice this is different to the web page result. if you click the gene link you will notice on\n",
    "# the side box that details the query another term has been added to make sure the returned gene entries are\n",
    "# live in the database. this excludes retired and/or redirected links and gives the true value\n",
    "handle = Entrez.egquery(term=\"Nrg1 AND alive[prop]\")\n",
    "record = Entrez.read(handle)\n",
    "handle.close()\n",
    "\n",
    "# we can iterate through the record and only return the 'nucleotide' result\n",
    "for row in record[\"eGQueryResult\"]:\n",
    "    if row[\"DbName\"]==\"gene\":\n",
    "        # print how many alive gene entries there are\n",
    "        print(\"There are \"+row[\"Count\"]+\" live gene entries for the gene Nrg1\")"
   ]
  },
  {
   "cell_type": "code",
   "execution_count": null,
   "metadata": {},
   "outputs": [],
   "source": [
    "#search for the gene accessions\n",
    "handle = Entrez.esearch(db='gene',term=\"Nrg1[Gene] AND human[Organism]\")\n",
    "human_gene_ids = Entrez.read(handle)['IdList']\n",
    "handle.close()\n",
    "\n",
    "# #fetch the first gene entry - this is the summary you've found already\n",
    "print(\"human gene id\",human_gene_ids)\n",
    "handle = Entrez.efetch(db='gene',id=human_gene_ids[0],retmode='text')\n",
    "print(handle.read())\n",
    "handle.close()\n",
    "\n",
    "#OK so this is the XML data which is the full record as you've seen\n",
    "handle = Entrez.efetch(db='gene',id=human_gene_ids,rettype='gb',retmode='xml')\n",
    "\n",
    "#I'm going to use ElementTree to parse the XML, this is PAINFUL!\n",
    "#You need to examine the structure of the XML to work out which element tags to use, I'm not sure there's an easier way!\n",
    "import xml.etree.ElementTree as ET\n",
    "tree = ET.parse(handle)\n",
    "all_name_elements = tree.findall('.//Other-source')\n",
    "\n",
    "print(\"GO annotations for the Gene\\n\")\n",
    "for source in all_name_elements:\n",
    "    source_ids = source.findall('.//Dbtag_db')\n",
    "    for source_id in source_ids:\n",
    "        if source_id.text == 'GO':\n",
    "            GO_terms = source.findall('Other-source_anchor')\n",
    "            for GO_term in GO_terms:\n",
    "                print(GO_term.text)\n",
    "            # print(ET.tostring(source))\n",
    "        else:\n",
    "            pass\n",
    "\n",
    "handle.close()\n"
   ]
  },
  {
   "cell_type": "code",
   "execution_count": null,
   "metadata": {},
   "outputs": [],
   "source": []
  },
  {
   "cell_type": "markdown",
   "metadata": {},
   "source": [
    "### Challenge 2 - Human and Mouse Nrg1 Genes\n",
    "Using either the Entrez website to search and/or using what you've learned about BioPython's abilities to query NCBI services retreive full-length human and mouse (RefSeq) gene entries for Nrg1.\n",
    "- What are the accession numbers / ids of the Genbank records?\n",
    "- How long are the Human and Mouse NRG1, Nrg1 proteins?\n",
    "- How many nucleotide sequence differences are there between their longest CDs?\n",
    "- How many protein sequence differences are there between their longest proteins?"
   ]
  },
  {
   "cell_type": "code",
   "execution_count": null,
   "metadata": {
    "tags": []
   },
   "outputs": [],
   "source": [
    "from Bio import SeqIO\n",
    "\n",
    "#From above we can find the human and mouse versions the accession ids\n",
    "handle = Entrez.esearch(db='gene',term=\"Nrg1[Gene] AND human[Organism]\")\n",
    "human_gene_ids = Entrez.read(handle)['IdList']\n",
    "handle = Entrez.esearch(db='gene',term=\"Nrg1[Gene] AND mouse[Organism]\")\n",
    "mouse_gene_ids = Entrez.read(handle)['IdList']\n",
    "handle.close()\n",
    "\n",
    "#Accession Numbers of Gene Entries\n",
    "print(\"human gene id\",human_gene_ids)\n",
    "print(\"mouse gene ids\",mouse_gene_ids)\n",
    "\n",
    "#convenience function to find the genomic sequence entries from a gene_id\n",
    "def find_gene_sequence(gene_id):\n",
    "    handle = Entrez.efetch(db='gene',id=gene_id,rettype='gb',retmode='xml')\n",
    "    gene_entry = Entrez.read(handle)\n",
    "\n",
    "    #Get the accession, start and stop locations from the genbank XML file\n",
    "    accession = gene_entry[0]['Entrezgene_locus'][0]['Gene-commentary_accession']\n",
    "    start = gene_entry[0]['Entrezgene_locus'][0]['Gene-commentary_seqs'][0]['Seq-loc_int']['Seq-interval']['Seq-interval_from']\n",
    "    stop = gene_entry[0]['Entrezgene_locus'][0]['Gene-commentary_seqs'][0]['Seq-loc_int']['Seq-interval']['Seq-interval_to']\n",
    "\n",
    "    #Retreive the annotated sequence and parse it for protein features\n",
    "    handle = Entrez.efetch(db='nuccore',id=accession, seq_start=start, seq_stop=stop, rettype='gb', retmode='text')\n",
    "    record = SeqIO.read(handle, \"genbank\")\n",
    "    return(record)\n",
    "\n",
    "#Get the gene records\n",
    "human_record = find_gene_sequence(human_gene_ids[0])\n",
    "mouse_record = find_gene_sequence(mouse_gene_ids[0])\n",
    "\n",
    "# for convenience I've defined a function that allows me to pass any suitable record and find the longest\n",
    "# protein sequence\n",
    "def find_longest_protein(record):\n",
    "    longest_protein_length = 0\n",
    "    longest_cds = ''\n",
    "\n",
    "    if record.features:\n",
    "        for feature in record.features:\n",
    "            #this tag identifies the CoDingSequences from the record\n",
    "            if feature.type == \"CDS\":\n",
    "                current_sequence = feature.location.extract(record).seq\n",
    "                #check whether sequence is a multiple of three if not pad out end with Ns (optional)\n",
    "                # translate will throw an error if the sequence is not a multiple of three\n",
    "                if len(current_sequence) % 3 != 0:\n",
    "                    current_sequence += 'N' * ((3 - len(current_sequence) % 3))\n",
    "                #translate the current sequence into protein\n",
    "                translation = current_sequence.translate()\n",
    "                if len(translation) > longest_protein_length:\n",
    "                    longest_protein_length = len(translation)\n",
    "                    longest_cds = current_sequence\n",
    "    #             print(feature.qualifiers[\"gene\"],feature.qualifiers[\"protein_id\"],len(translation))\n",
    "\n",
    "    print(\"Longest Protein -\",longest_protein_length,\"amino acids\\nCDS -\",longest_cds,\"\\nProtein -\",longest_cds.translate())\n",
    "    handle.close()\n",
    "    return(longest_cds)\n",
    "\n",
    "# call the function to find the longest proteins for these genes\n",
    "print(\"Human\")\n",
    "human_cd = find_longest_protein(human_record)\n",
    "print(\"Mouse\")\n",
    "mouse_cd = find_longest_protein(mouse_record)\n",
    "\n",
    "# The last two questions can be done online, but in order to do them programatically you need to be able to perform\n",
    "# pairwise sequence alignment using python"
   ]
  },
  {
   "cell_type": "code",
   "execution_count": null,
   "metadata": {
    "tags": []
   },
   "outputs": [],
   "source": [
    "from Bio import pairwise2\n",
    "\n",
    "#CDS\n",
    "alignment = pairwise2.align.globalxx(human_cd,mouse_cd)\n",
    "\n",
    "#the number of identical matches in the CDS alignment\n",
    "aligned = alignment[0][2]\n",
    "\n",
    "#work out the non-identical matches per sequence\n",
    "print(\"Nucleotide\")\n",
    "print(\"Non-aligned human bases\",int(len(human_cd)-aligned))\n",
    "print(\"Non-aligned mouse bases\",int(len(mouse_cd)-aligned))\n",
    "\n",
    "\n",
    "#Proteins\n",
    "alignment = pairwise2.align.globalxx(human_cd.translate(),mouse_cd.translate())\n",
    "\n",
    "#the number of identical matches in the protein lignment\n",
    "aligned = alignment[0][2]\n",
    "\n",
    "#work out the non-identical matches per sequence\n",
    "print(\"\\nProtein\")\n",
    "print(\"Non-aligned human amino acids\",int(len(human_cd.translate())-aligned))\n",
    "print(\"Non-aligned mouse amino acids\",int(len(mouse_cd.translate())-aligned))"
   ]
  }
 ],
 "metadata": {
  "interpreter": {
   "hash": "dca0ade3e726a953b501b15e8e990130d2b7799f14cfd9f4271676035ebe5511"
  },
  "kernelspec": {
   "display_name": "Python 3.8.8 64-bit ('base': conda)",
   "name": "python3"
  },
  "language_info": {
   "codemirror_mode": {
    "name": "ipython",
    "version": 3
   },
   "file_extension": ".py",
   "mimetype": "text/x-python",
   "name": "python",
   "nbconvert_exporter": "python",
   "pygments_lexer": "ipython3",
   "version": "3.11.5"
  }
 },
 "nbformat": 4,
 "nbformat_minor": 1
}
