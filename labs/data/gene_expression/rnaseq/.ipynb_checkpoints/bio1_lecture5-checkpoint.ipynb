{
 "cells": [
  {
   "cell_type": "markdown",
   "metadata": {},
   "source": [
    "### Part 1 - Initial Setup\n",
    "Please note that this first cell takes a long time to install the packages, please leave it to complete before moving on to the next cell. Whilst it is still running the ```[*]``` marker will be present. Wait for the ```*``` to change to a number."
   ]
  },
  {
   "cell_type": "code",
   "execution_count": null,
   "metadata": {},
   "outputs": [],
   "source": [
    "# Read in the Bioconductor package installation script.\n",
    "source(\"http://bioconductor.org/biocLite.R\")\n",
    "\n",
    "# Install the core Bioconductor packages.\n",
    "biocLite()\n",
    "\n",
    "# Install the \"DESeq2\" package:\n",
    "# \"DESeq2: Differential gene expression analysis based on the negative binomial \n",
    "# distribution\"\n",
    "# http://bioconductor.org/packages/release/bioc/html/DESeq2.html\n",
    "biocLite(\"DESeq2\")\n",
    "\n",
    "# n.b. the installation of packages above only needs to be done once - if \n",
    "# you're re-running the script, you can start from here.\n",
    "\n",
    "# Load the DESeq2 library into R.\n",
    "library(\"DESeq2\")"
   ]
  },
  {
   "cell_type": "markdown",
   "metadata": {},
   "source": [
    "### Part 2 - Get Gene Counts"
   ]
  },
  {
   "cell_type": "code",
   "execution_count": null,
   "metadata": {},
   "outputs": [],
   "source": [
    "# Load \"pasilla_gene_counts.tsv\", which contains per-gene counts of mapped reads \n",
    "# for each sample in the study:\n",
    "#  Brooks et al., \"Conservation of an RNA regulatory map between Drosophila and \n",
    "#  mammals\", Genome Research (2011).\n",
    "# Note that if the \"pasilla_gene_counts.tsv\" file is in a different directory to\n",
    "# where you are running R, you'll need to specify the relative path to the file\n",
    "# within the following statement.\n",
    "pasillaCounts <- read.csv(\"pasilla_gene_counts.tsv\", sep=\"\\t\", row.names=\"gene_id\")\n",
    "pasillaCounts <- as.matrix(pasillaCounts)\n",
    "\n",
    "# Examine the per-gene read counts.\n",
    "head(pasillaCounts)"
   ]
  },
  {
   "cell_type": "markdown",
   "metadata": {},
   "source": [
    "### Part 3 - Get Sample Meta-Data"
   ]
  },
  {
   "cell_type": "code",
   "execution_count": null,
   "metadata": {},
   "outputs": [],
   "source": [
    "# In addition to count data, we'll need to load a file containing metadata \n",
    "# describing the experimental samples\n",
    "pasillaSamples <- read.csv(\"pasilla_sample_data.tsv\", sep=\"\\t\", row.names=\"sample\")\n",
    "\n",
    "# Examine the sample metadata\n",
    "pasillaSamples"
   ]
  },
  {
   "cell_type": "markdown",
   "metadata": {},
   "source": [
    "### Part 4 - Get Paired-End Data"
   ]
  },
  {
   "cell_type": "code",
   "execution_count": null,
   "metadata": {},
   "outputs": [],
   "source": [
    "# Construct a vector of \"TRUE\" or \"FALSE\" values according as each sample is from \n",
    "# a single- or paired-end library.\n",
    "pairedSamples <- pasillaSamples$type == \"paired-end\"\n",
    "\n",
    "# Then use that vector to extract just the counts for the paired-end samples, and \n",
    "# reassign this data to the \"pasillaCounts\" variable.\n",
    "pasillaCounts <- pasillaCounts[ , pairedSamples ]\n",
    "\n",
    "# Now the counts table only contains per-gene read counts for the paired-end \n",
    "# samples.\n",
    "head(pasillaCounts)\n",
    "\n",
    "# We'll do the same for the sample metadata (n.b. here we're selecting rows; \n",
    "# for the counts we were selecting columns)\n",
    "pasillaSamples <- pasillaSamples[ pairedSamples, ]"
   ]
  },
  {
   "cell_type": "markdown",
   "metadata": {},
   "source": [
    "### Part 5 - Re-order Conditions"
   ]
  },
  {
   "cell_type": "code",
   "execution_count": null,
   "metadata": {},
   "outputs": [],
   "source": [
    "# As it stands, the experimental conditions are ordered the wrong way round because \n",
    "# DESeq2 chooses the base condition by alphabetical order (this just means that fold \n",
    "# changes for gene expression won't be the way round that we'd naturally expect, that \n",
    "# is, \"treated\" vs \"untreated\").\n",
    "pasillaSamples$condition\n",
    "\n",
    "# But we can easily reorder so that \"untreated\" is the base condition - and DESeq2 \n",
    "# will then report differential expression in the \"treated\" condition relative \n",
    "# to this.\n",
    "pasillaSamples$condition <- relevel(pasillaSamples$condition, ref=\"untreated\")\n",
    "\n",
    "# Now the conditions are the right way round.\n",
    "pasillaSamples$condition"
   ]
  },
  {
   "cell_type": "markdown",
   "metadata": {},
   "source": [
    "### Part 6 - Create DESeq Data Set"
   ]
  },
  {
   "cell_type": "code",
   "execution_count": null,
   "metadata": {},
   "outputs": [],
   "source": [
    "# We can now create a \"DESeqDataSet\" object, encapsulating all the information\n",
    "# we need to perform a differential expression analysis. Note that we also supply\n",
    "# a design formula, expressing in what way we expect the counts for each gene to\n",
    "# depend on the variables in \"pasillaSamples\". In this simple example, we just\n",
    "# expect the counts to depend on whether the samples were untreated or treated \n",
    "# (i.e. on the \"condition\" variable)\n",
    "library(\"DESeq2\")\n",
    "\n",
    "dds <- DESeqDataSetFromMatrix(\n",
    "  countData=pasillaCounts, colData=pasillaSamples, design=~condition)\n",
    "\n",
    "# Examining this object gives some summary information on the samples and \n",
    "# number of genes.\n",
    "dds"
   ]
  },
  {
   "cell_type": "markdown",
   "metadata": {},
   "source": [
    "### Part 7 - Normalise Count Data"
   ]
  },
  {
   "cell_type": "code",
   "execution_count": null,
   "metadata": {},
   "outputs": [],
   "source": [
    "# Now we can finally start to analyse the data. At this point, we'd normally \n",
    "# use the function \"DESeq\", which wraps all the standard differential expression \n",
    "# analysis steps into a single call. However, here we'll execute some of the \n",
    "# steps separately, so as to examine in a little more detail.\n",
    "\n",
    "# The first thing we have to do is normalise counts across the samples. Because \n",
    "# different total numbers of reads may be produced in different sequencing runs \n",
    "# (i.e. the samples are sequenced to different \"depths\" of read coverage), genes \n",
    "# which are *not* differentially expressed may nevertheless have very different \n",
    "# counts across samples. DESeq2 assumes that most genes are not differentially \n",
    "# expressed (which is *usually* - but not always! - a sensible assumption), and \n",
    "# then calculates a per-sample \"size factor\" to be applied to the counts of each \n",
    "# sample (it divides each count by the size factor). This brings the counts for \n",
    "# each sample onto a common scale so that comparisons can be made between them.\n",
    "# (n.b. there are many other ways in which sample counts could potentially be \n",
    "# normalised, and this is still an active area of research.)\n",
    "dds <- estimateSizeFactors(dds)\n",
    "\n",
    "# DESeq has calculated, for example, that the counts in the \"treated3\" sample are \n",
    "# considerably larger than all the other samples, and that those in the \n",
    "# \"untreated3\" sample are considerably smaller.\n",
    "sizeFactors(dds)\n",
    "\n",
    "# We can see the difference the size factors make by examining raw... \n",
    "head(counts(dds))\n",
    "\n",
    "# ...and normalised counts.\n",
    "head(counts(dds, normalized=TRUE))"
   ]
  },
  {
   "cell_type": "markdown",
   "metadata": {},
   "source": [
    "### Part 8 - Estimate Dispersion"
   ]
  },
  {
   "cell_type": "code",
   "execution_count": null,
   "metadata": {},
   "outputs": [],
   "source": [
    "# DESeq2's statistical model relies on understanding the relationship between the\n",
    "# gene count data's variance and its mean. The next step estimates the relationship\n",
    "# between the mean normalised counts and their \"dispersion\" (that is, the squared \n",
    "# coefficient of variation = the standard deviation divided by the mean, all \n",
    "# squared). Dispersion can be understood as follows - if a gene's expression varies \n",
    "# from replicate to replicate by 20%, its dispersion is 0.2*0.2=0.04.\n",
    "# The function estimateDispersions() performs three steps:\n",
    "#   (i) it estimates a dispersion value for each gene (which value may itself have \n",
    "#   a large sampling variance due to the limited number of samples it is calculated \n",
    "#   from),\n",
    "#   (ii) it fits a curve through these estimates,\n",
    "#   (iii) for each gene it \"shrinks\" the noisy gene-wise dispersion estimates towards \n",
    "#   the consensus represented by the fitted curve (though outliers, with large \n",
    "#   dispersion estimates, are left unchanged) \n",
    "dds <- estimateDispersions(dds)\n",
    "\n",
    "# We can view the per-gene dispersion estimates and the fitted curve using the \n",
    "# plotDispEsts() function. Black dots are the original gene-wise dispersion estimates, \n",
    "# the red line is the fitted curve, and the blue dots are the final \"shrunken\" \n",
    "# dispersion estimates. Black dots surrounded by blue circles are the outliers, \n",
    "# whose dispersion estimate was not altered.\n",
    "plotDispEsts(dds)"
   ]
  },
  {
   "cell_type": "markdown",
   "metadata": {},
   "source": [
    "### Part 9 - Call Differentially Expressed Genes"
   ]
  },
  {
   "cell_type": "code",
   "execution_count": null,
   "metadata": {},
   "outputs": [],
   "source": [
    "# We now have a dispersion estimate for each gene. DESeq2 is now in a position \n",
    "# to perform tests, for each gene, using the negative binomial distribution to \n",
    "# see if the counts in the two experimental conditions come from distributions \n",
    "# with different means.\n",
    "res <- results(nbinomWaldTest(dds, betaPrior=TRUE))\n",
    "head(res)\n",
    "\n",
    "# Make a scatter plot of logarithmic fold changes (y-axis) versus the mean of \n",
    "# normalised counts (x-axis). Differentially expressed genes are coloured red.\n",
    "plotMA(res, ylim=c(-2,2))"
   ]
  },
  {
   "cell_type": "markdown",
   "metadata": {},
   "source": [
    "### Part 10 - Examine Differentially Expressed Genes"
   ]
  },
  {
   "cell_type": "code",
   "execution_count": null,
   "metadata": {},
   "outputs": [],
   "source": [
    "# We'll remove genes for which DESeq2 did not perform a full calculation. \n",
    "# This includes, for example, genes with low mean counts that DESeq2 had \n",
    "# determined were unlikely to be called as differentially expressed. These \n",
    "# genes are indicated by a value of \"NA\" in the \"padj\" column.\n",
    "res <- res[ !is.na(res$padj), ]\n",
    "\n",
    "# Select genes called as differentially expressed with the False Discovery Rate \n",
    "# controlled at 10% - that is, at most 10% of the genes called as differentially \n",
    "# expressed will be false positives.\n",
    "resSig <- res[ res$padj < 0.1, ]\n",
    "\n",
    "# Order the significant genes by p-value - i.e. by their likelihood of being \n",
    "# differentially expressed.\n",
    "head(resSig[ order(resSig$pvalue), ])\n",
    "\n",
    "# Examine the most strongly down-regulated of the significant genes.\n",
    "head(resSig[ order(resSig$log2FoldChange, -resSig$baseMean), ])\n",
    "\n",
    "# Examine the most strongly up-regulated of the significant genes.\n",
    "head(resSig[ order(-resSig$log2FoldChange, -resSig$baseMean), ])"
   ]
  },
  {
   "cell_type": "markdown",
   "metadata": {},
   "source": [
    "### Part 11 - What about Pasilla?"
   ]
  },
  {
   "cell_type": "code",
   "execution_count": null,
   "metadata": {},
   "outputs": [],
   "source": [
    "# Select pasilla (which has FlyBase gene ID \"FBgn0261552\") from the results table. \n",
    "# Is it differentially expressed (let's hope so!)?\n",
    "resSig[\"FBgn0261552\", ]\n",
    "\n",
    "# Yes, its expression is down about 4-fold in the treated samples."
   ]
  }
 ],
 "metadata": {
  "kernelspec": {
   "display_name": "R",
   "language": "R",
   "name": "ir"
  },
  "language_info": {
   "codemirror_mode": "r",
   "file_extension": ".r",
   "mimetype": "text/x-r-source",
   "name": "R",
   "pygments_lexer": "r",
   "version": "3.4.1"
  }
 },
 "nbformat": 4,
 "nbformat_minor": 2
}
