{
 "cells": [
  {
   "cell_type": "markdown",
   "metadata": {},
   "source": [
    "### Week 5 - Building a Phylogenetic Tree from a Multiple Sequence Alignment\n",
    "- October 2023\n",
    "- [https://https://github.com/tisimpson/bioinformatics1](https://github.com/tisimpson/bioinformatics1)\n",
    "- [ian.simpson@ed.ac.uk](mailto:ian.simpson@ed.ac.uk)\n",
    "In this notebook we are going to walk through an experiment where we retreive sequences, do BLAST searches and then use the results to format and then execute a multiple sequence alignment using the MUSCLE software package. At the end we even create a basic phylogenetic tree from the alignment and then visualise it.\n",
    "\n",
    "- To setup the MUSCLE aligner using conda use the command ``conda install -c bioconda muscle``\n",
    "- To setup the RAxML phykogenetic inference tool using conda use the command ``conda install -c bioconda raxml``"
   ]
  },
  {
   "cell_type": "code",
   "execution_count": null,
   "metadata": {},
   "outputs": [],
   "source": [
    "# %pip install biopython"
   ]
  },
  {
   "cell_type": "markdown",
   "metadata": {},
   "source": [
    "### Part 1 - Fetch Distantly Related Protein Sequences from NCBI"
   ]
  },
  {
   "cell_type": "code",
   "execution_count": null,
   "metadata": {},
   "outputs": [],
   "source": [
    "# import required Biophython functions \n",
    "from Bio import Entrez\n",
    "from Bio import SeqIO\n",
    "\n",
    "# distant globin accession numbers\n",
    "globinAccessions = ['NP_000509','NP_005359','NP_067080','NP_001049476','NP_001235928']\n",
    "\n",
    "# set email address for NCBI\n",
    "Entrez.email = 'ian.simpson@ed.ac.uk'\n",
    "\n",
    "# fetch the sequences from NCBI\n",
    "handle = Entrez.efetch(db=\"protein\", id=globinAccessions, rettype=\"gb\", retmode=\"text\")\n",
    "records = SeqIO.parse(handle, \"gb\")\n",
    "\n",
    "# # print out the sequence names\n",
    "# for record in records:\n",
    "#     print(record.name)\n",
    "\n",
    "# write to fasta file\n",
    "SeqIO.write(records, \"globins.fa\", \"fasta\")"
   ]
  },
  {
   "cell_type": "markdown",
   "metadata": {},
   "source": [
    "### Part 2 - Perform a MUSCLE Multiple Sequence Alignment"
   ]
  },
  {
   "cell_type": "code",
   "execution_count": null,
   "metadata": {},
   "outputs": [],
   "source": [
    "# module to manipulate alignments\n",
    "from Bio import AlignIO\n",
    "# module to allow command line calls\n",
    "import os\n",
    "\n",
    "# run Muscle MSA\n",
    "cmdLine = 'muscle -align globins.fa -output distant_globins.aln'\n",
    "os.popen(cmdLine)"
   ]
  },
  {
   "cell_type": "code",
   "execution_count": null,
   "metadata": {},
   "outputs": [],
   "source": [
    "# read in the MUSCLE alignment\n",
    "alignment = AlignIO.read('distant_globins.aln','fasta')"
   ]
  },
  {
   "cell_type": "markdown",
   "metadata": {},
   "source": [
    "### Part 3 - Calculate a Basic UPGMA Tree (NB this is not a true phylogenetic tree)"
   ]
  },
  {
   "cell_type": "code",
   "execution_count": null,
   "metadata": {},
   "outputs": [],
   "source": [
    "# import modules for tree building\n",
    "from Bio import Phylo\n",
    "from Bio.Phylo.TreeConstruction import DistanceTreeConstructor\n",
    "from Bio.Phylo.TreeConstruction import DistanceCalculator\n",
    "\n",
    "# select the distance matrix and tree building method\n",
    "calculator = DistanceCalculator('dayhoff')\n",
    "constructor = DistanceTreeConstructor(calculator, 'upgma')\n",
    "\n",
    "# build the tree\n",
    "tree = constructor.build_tree(alignment)\n",
    "\n",
    "# plot the tree\n",
    "Phylo.draw(tree)"
   ]
  },
  {
   "cell_type": "markdown",
   "metadata": {},
   "source": [
    "### Part 4 - Use RAxML to Build a True Phylogenetic Tree from the MSA"
   ]
  },
  {
   "cell_type": "code",
   "execution_count": null,
   "metadata": {},
   "outputs": [],
   "source": [
    "# import the Phylo applications module to run RaxML command line\n",
    "# https://cme.h-its.org/exelixis/web/software/raxml/\n",
    "# https://biopython.org/docs/1.75/api/Bio.Phylo.Applications.html\n",
    "\n",
    "# NB create a directory for the RaxML output called 'raxml' in the same directory as this script\n",
    "\n",
    "from Bio.Phylo.Applications import RaxmlCommandline\n",
    "\n",
    "# convert the alignment to phylip format\n",
    "AlignIO.write(alignment, 'distant_globins.phy', 'phylip-relaxed')\n",
    "\n",
    "# set the working directory\n",
    "current_dir = os.getcwd()\n",
    "working_dir = current_dir+'/raxml/'\n",
    "print(working_dir)\n",
    "\n",
    "# NB RAxML will not overwrite existing files, so delete the old info file and it will create a new one\n",
    "if os.path.exists(working_dir+'RAxML_info.*'):\n",
    "    os.remove(working_dir+'RAxML_info.*')\n",
    "\n",
    "# set up the RaxML commandline call\n",
    "raxml_cline = RaxmlCommandline(sequences='distant_globins.phy', model=\"PROTCATWAG\", name=\"distant_globins\", working_dir=working_dir)\n",
    "\n",
    "#run raxml\n",
    "raxml_cline()"
   ]
  },
  {
   "cell_type": "code",
   "execution_count": null,
   "metadata": {},
   "outputs": [],
   "source": [
    "# read in the resulting tree\n",
    "tree = Phylo.read(working_dir+'/RAxML_result.distant_globins','newick')\n",
    "\n",
    "# plot the tree\n",
    "Phylo.draw(tree)"
   ]
  }
 ],
 "metadata": {
  "kernelspec": {
   "display_name": "bio1dev",
   "language": "python",
   "name": "python3"
  },
  "language_info": {
   "codemirror_mode": {
    "name": "ipython",
    "version": 3
   },
   "file_extension": ".py",
   "mimetype": "text/x-python",
   "name": "python",
   "nbconvert_exporter": "python",
   "pygments_lexer": "ipython3",
   "version": "3.11.5"
  }
 },
 "nbformat": 4,
 "nbformat_minor": 2
}
