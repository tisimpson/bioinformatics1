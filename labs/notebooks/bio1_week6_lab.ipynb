{
 "cells": [
  {
   "cell_type": "markdown",
   "metadata": {},
   "source": [
    "##### <font color='darkblue'>Week 6 - Lab Notebook - Working with Biological Databases</font>\n",
    "\n",
    "- October 2023\n",
    "- https://https://github.com/tisimpson/bioinformatics1\n",
    "- ian.simpson@ed.ac.uk"
   ]
  },
  {
   "cell_type": "markdown",
   "metadata": {},
   "source": [
    "##### <font color='darkblue'>Introduction</font>\n",
    "In this computing lab we are going to be making some plots and tables. We've included code to make simple plots using matplotlib and nicer looking tables using PrettyTable in the various notebooks in the previous weeks so you can borrow code from there and modify it as needed.\n",
    "\n",
    "In this computing lab you are going to try to find answers to biological questions using data that you query/download/analyse from some of the websites we introduced last week. You can follow the code in the week5&6 notebooks and make changes to them and use some time to tackle some of the challenges/problems at the end of the notebooks. We've summarised these below.\n",
    "\n",
    "##### <font color='darkblue'>Learning Outcomes</font>\n",
    "After this tutorial you should be comfortable with:\n",
    "• Identifying a selection of databases likely to contain data you need in a research project\n",
    "• Navigating and creating custom queries to extract and download data from these databases\n",
    "• Processing & Filtering data to use in summary analysis and visualisation"
   ]
  },
  {
   "cell_type": "markdown",
   "metadata": {},
   "source": [
    "##### <font color='darkblue'>Activity 1 – Genomic Data</font>\n",
    "\n",
    "Refer to the [bio1_week5&6_part1.ipynb](https://github.com/tisimpson/bioinformatics1/blob/main/labs/notebooks/bio1_week5%266_part1.ipynb) notebook for this activity. If you have already worked through this notebook skip to number 4.\n",
    "\n",
    "Go to the [NCBI download page](https://www.ncbi.nlm.nih.gov/home/download/) and click \"download by FTP\". This will lead to a directory tree. Click \"gene\", then \"data\" and either fetch the complete \"gene_info.gz\" file or better navigate further into the \"GENE_INFO\" directory and from the directories inside there find the gene_info file for the individual species (a much smaller file). For example the human file is found [here](https://ftp.ncbi.nlm.nih.gov/gene/DATA/GENE_INFO/Mammalia/Homo_sapiens.gene_info.gz). Have a look at the README file in this directory for detailed information about the content and structure of the files.\n",
    "\n",
    "- Human (Homo sapiens)\n",
    "- Mouse (Mus musculus)\n",
    "- Rat (Rattus Norvegicus)\n",
    "- Fruitfly (Drosophila melanogaster)\n",
    "- Yeast (Saccharomyces cerevisiae)\n",
    "  \n",
    "1. Using these data files create plots for each species to show:\n",
    "   - Total Number of Genes by Species (in one plot)\n",
    "   - Number of Genes by gene_type (you can try individual plots and stacked histograms)\n",
    "2.  For the same species find the total size of their genomes (in nucleotides) (you can find this by finding the genomes in the genome browsing table at [NCBI Genomes](https://www.ncbi.nlm.nih.gov/datasets/genomes/?taxon=overview)).\n",
    "3. Now create a plot where you normalise the number of genes by genome size and plot this for all the species on one plot, what do you think of the outcome?\n",
    "4. (optional) Can you perform the same analysis as 1-3 above, but for the number of unique transcripts in each genome? You are going to want to work with the feature table file which summarises the information for genomic features."
   ]
  },
  {
   "cell_type": "markdown",
   "metadata": {},
   "source": [
    "##### <font color='darkblue'>Activity 2 – Pathways and Protein-Protein Interaction Networks</font>\n",
    "\n",
    "Refer to the [bio1_week5&6_part2.ipynb](https://github.com/tisimpson/bioinformatics1/blob/main/labs/notebooks/bio1_week5%266_part2.ipynb) notebook for this activity.\n",
    "\n",
    "1. Go to the [KEGG pathway database](https://www.genome.jp/kegg/pathway.html) and download a list of human genes that are part of the “Cell adhesion molecules\". In the search make sure you restrict it to humans only. This is actually pretty tricky so if you get stuck the list can be found [here](https://www.genome.jp/entry/pathway+hsa04514) and [here](https://www.genome.jp/dbget-bin/get_linkdb?-t+genes+path:hsa04514).\n",
    "\n",
    "We're going to look for evidence of interactions between these proteins using the StringDB database which we will look at in more detail in a couple of weeks when we learn about networks and their analysis. In the week 8 lab we're going to learn how to do the whole process computationally.\n",
    "\n",
    "2. Parse that list (the numeric part of the hsa : <NUMBER> identifier in the list is in fact the NCBI Entrez GeneID accession) and then go to [StringDB](https://string-db.org) click \"Search\" and then on the left-hand side \"Multiple Proteins\" and paste in the search list being sure to select human. Use the tabs to find the information to answer the following questions.\n",
    "3. How many interactions are there? How many orphans (proteins with no interactions) are there?\n",
    "4. What is the average number of interactions that any protein in the list has with other members (this is called the mean degree)?\n",
    "5. Now repeat 2-4 above several times, each time applying these different restrictions using the \"Settings\" tab with the following active interaction data sources:\n",
    "   - Experimental, Co-expression, and Co-occurence\n",
    "   - Experimental only\n",
    "What difference do these changes make to the number of interactions and the mean degree? Why do you think this is?"
   ]
  },
  {
   "cell_type": "markdown",
   "metadata": {},
   "source": [
    "**NB** The 3 activities below are much easier to gather via Python coding. This week (look also at the notebooks we will study on Friday) you will see how programmatic access greatly facilitates many of the tasks we would like to perform."
   ]
  },
  {
   "cell_type": "markdown",
   "metadata": {},
   "source": [
    "##### <font color='darkblue'>Activity 3 - Gene Ontologies</font>\n",
    "\n",
    "Refer to the [bio1_week5&6_part3.ipynb](https://github.com/tisimpson/bioinformatics1/blob/main/labs/notebooks/bio1_week5%266_part3.ipynb) notebook for this activity.\n",
    "\n",
    "1. Using the same list of genes as used in the Protein-Protein interaction example above first download the [gene2GO.gz](https://ftp.ncbi.nlm.nih.gov/gene/DATA/gene2go.gz) file that contains mappings between the genes (NB that in effect we are treating genes and proteins as the same here, but remember that technically genes can code for more than one protein isoform and the different isoforms could well have slightly different functions).\n",
    "\n",
    "We will be learning a lot more about ontologies next week, but you can find out more about the Gene Ontology [here](http://geneontology.org).\n",
    "\n",
    "2. This file contains ALL gene->gene-ontology-term mappings for all species so you need to restrict this to mappings for human genes only.\n",
    "3. Map the genes from the protein-protein interaction list to the identifier in the gene2go file to identify all of the GO annotations for each gene. Note that you will need to create a unique list of proteins in the protein-protein interaction list so:\n",
    "    - A-B, A-C, A-D (interactions) becomes A, B, C, D to look for mappings.\n",
    "4. What is the most common annotation for genes in the list?\n",
    "5. How many times is that most frequent annotated term found amongst all genes in the human genome?\n",
    "6. Is that term found more times than you would expect in the set of genes from the protein-protein interaction data? Why am I asking this!?"
   ]
  },
  {
   "cell_type": "markdown",
   "metadata": {},
   "source": [
    "##### <font color='darkblue'>Activity 4 – Searching PubMed</font>\n",
    "\n",
    "Refer to the [bio1_week5&6_part4.ipynb](https://github.com/tisimpson/bioinformatics1/blob/main/labs/notebooks/bio1_week5%266_part4.ipynb) notebook for this activity.\n",
    "\n",
    "Practice using [search field tags](https://pubmed.ncbi.nlm.nih.gov/help/#using-search-field-tags) including MeSH limits to explore some of these questions at [NCBI PubMed](https://pubmed.ncbi.nlm.nih.gov)\n",
    "1. Plot a graph of how many papers were in PubMed in each year for the last 10 years\n",
    "2. How many papers are there relating to Cadherin-7 and human disease? what diseases are mentioned?\n",
    "    - Try three different search strategies, which one do you think is best and why?\n",
    "3. Can you use PubMed to work out how the emerging popularity of single-cell RNA sequencing to measure gene expression over the last 10 years?"
   ]
  }
 ],
 "metadata": {
  "kernelspec": {
   "display_name": "Python 3.8.13 ('base')",
   "language": "python",
   "name": "python3"
  },
  "language_info": {
   "name": "python",
   "version": "3.7.4"
  },
  "orig_nbformat": 4,
  "vscode": {
   "interpreter": {
    "hash": "c79478e135452d4f8dcea3898ce85a4457be8d06848dc07bbec8d2854f4ceed7"
   }
  }
 },
 "nbformat": 4,
 "nbformat_minor": 2
}
